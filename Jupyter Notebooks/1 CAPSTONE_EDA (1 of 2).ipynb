{
 "cells": [
  {
   "cell_type": "markdown",
   "id": "f71f6876",
   "metadata": {},
   "source": [
    "# Capstone Project\n",
    "### Jupyter Notebook (1/4)"
   ]
  },
  {
   "cell_type": "markdown",
   "id": "6b7ba702",
   "metadata": {},
   "source": [
    " "
   ]
  },
  {
   "cell_type": "markdown",
   "id": "f6a58a7f",
   "metadata": {},
   "source": [
    "### Bruno Athayde e Silva - 448898"
   ]
  },
  {
   "cell_type": "markdown",
   "id": "96ea6a77",
   "metadata": {},
   "source": [
    "#### Data Wrangling and EDA using MySQL"
   ]
  },
  {
   "cell_type": "markdown",
   "id": "a636dc3c",
   "metadata": {},
   "source": [
    "---"
   ]
  },
  {
   "cell_type": "markdown",
   "id": "ca1979fa",
   "metadata": {},
   "source": [
    "### Table of Contents"
   ]
  },
  {
   "cell_type": "markdown",
   "id": "95ee44fc",
   "metadata": {},
   "source": [
    "### [Introduction](#introduction)\n",
    "\n",
    "### [Methodology](#methodology)\n",
    "\n",
    "   - [Step 1: Gathering Data](#gathering)\n",
    "   \n",
    "   - [Step 2: Create Tables in MySQL](#create)\n",
    "   \n",
    "   - [Step 3: Load the Data into MySQL Tables](#load)\n",
    "   \n",
    "   - [Step 4: Initial EDA](#eda)\n",
    "   \n",
    "### [Next Steps](#next)\n",
    "\n",
    "### [Reference](#reference)"
   ]
  },
  {
   "cell_type": "markdown",
   "id": "65659226",
   "metadata": {},
   "source": [
    "--- "
   ]
  },
  {
   "cell_type": "markdown",
   "id": "5ebb8ef8",
   "metadata": {},
   "source": [
    "### Introduction\n",
    "<a id = 'introduction'></a>"
   ]
  },
  {
   "cell_type": "markdown",
   "id": "76aa95b9",
   "metadata": {},
   "source": [
    "Data wrangling is the process of gathering, cleaning, and transforming raw data into the desired format to better understand the database, helping decision-making, and analysis in less time."
   ]
  },
  {
   "cell_type": "markdown",
   "id": "d06a0f14",
   "metadata": {},
   "source": [
    "This is a crucial step for Data Science and Data Analysis, enabling a better understanding of the database and acknowledging its weaknesses and strengths. It also helps to understand the most suitable model or models for that specific business problem."
   ]
  },
  {
   "cell_type": "markdown",
   "id": "80e0aaa9",
   "metadata": {},
   "source": [
    "For this project, I am trying to create a model that would answer the Business Question:\n",
    "\n",
    "***Using Machine Learning, how might we estimate the fare per mile of a specific route such that we can maximize profit?*** "
   ]
  },
  {
   "cell_type": "markdown",
   "id": "0c63db23",
   "metadata": {},
   "source": [
    "Due to the database size I had access to, I decided to start Data Wrangling and EDA using MySQL since this is a tool more suitable for large datasets. Therefore, I am explaining the process below, starting with the data gathering and ending in a final dataset that was transferred from MySQL to my computer and later used to test models."
   ]
  },
  {
   "cell_type": "markdown",
   "id": "9f44a45a",
   "metadata": {},
   "source": [
    "---"
   ]
  },
  {
   "cell_type": "markdown",
   "id": "0459be0c",
   "metadata": {},
   "source": [
    "### Methodology \n",
    "<a id = 'methodology'></a>"
   ]
  },
  {
   "cell_type": "markdown",
   "id": "b104b2ae",
   "metadata": {},
   "source": [
    "I divided the process of data wrangling and EDA into a few steps explained below:\n",
    "\n",
    "Steps taken:\n",
    "   - Gather the raw data from the website\n",
    "   - Create tables in MySQL\n",
    "   - Load the raw data into MySQL tables\n",
    "   - Initial EDA"
   ]
  },
  {
   "cell_type": "markdown",
   "id": "94c8ecc0",
   "metadata": {},
   "source": [
    "#### Step 1: Gathering Data\n",
    "<a id = 'gathering'></a>"
   ]
  },
  {
   "cell_type": "markdown",
   "id": "35f411ff",
   "metadata": {},
   "source": [
    "   - **Overview:**\n",
    "\n",
    "The Airline Origin and Destination Survey (DB1B) is a 10% sample of airline tickets from reporting carriers collected by the Office of Airline Information of the Bureau of Transportation Statistics.\n",
    "\n",
    "   - **Coverage:**\n",
    "\n",
    "The survey covers a 10% sample of airline tickets purchased from reporting carriers, from 1993 to 2021, quarterly. \n",
    "\n",
    "For my project, I used the years Pre-COVID of **2018** and **2019**.\n",
    "\n",
    "   - **Data Tables:**\n",
    "\n",
    "**DB1BCoupon**: provides coupon-specific information for each domestic (US) itinerary of the Origin and Destination Survey.\n",
    "\n",
    "**DB1BMarket**: provides directional market characteristics of each domestic itinerary of the Origin and Destination Survey.\n",
    "\n",
    "**DB1BTicket**: provides summary characteristics of each domestic itinerary on the Origin and Destination Survey. "
   ]
  },
  {
   "cell_type": "markdown",
   "id": "6c900e24",
   "metadata": {},
   "source": [
    "The Airline Origin and Destination Survey can be obtained from the website of the [Bureau of Transportation and Statistics](https://www.transtats.bts.gov/Tables.asp?QO_VQ=EFI&QO_anzr=Nv4yv0r%FDb4vtv0%FDn0q%FDQr56v0n6v10%FDf748rB%FD%FLQOEO%FM&QO_fu146_anzr=b4vtv0%FDn0q%FDQr56v0n6v10%FDf748rB)."
   ]
  },
  {
   "cell_type": "markdown",
   "id": "fc797111",
   "metadata": {},
   "source": [
    " "
   ]
  },
  {
   "cell_type": "markdown",
   "id": "014c47c4",
   "metadata": {},
   "source": [
    "#### Step 2: Create tables in MySQL\n",
    "<a id = 'create'></a>"
   ]
  },
  {
   "cell_type": "markdown",
   "id": "64494acb",
   "metadata": {},
   "source": [
    "Due to the size of the dataset, the Table Data Import Wizard did not work as expected. I decided, then, to create the tables to load the data set. \n",
    "\n",
    "I created the table using the **'Create Table...'** in My SQL, setting the Datatype that would better accommodate that specific column from the raw dataset. I also set the **'ItinID'** as the table's primary key.\n",
    "\n",
    "I did the same step for each **DB1B** table, for both years, given that those tables do not contain the same information."
   ]
  },
  {
   "cell_type": "markdown",
   "id": "9d3558c6",
   "metadata": {},
   "source": [
    " "
   ]
  },
  {
   "cell_type": "markdown",
   "id": "2775c916",
   "metadata": {},
   "source": [
    "#### Step 3: Load the data into MySQL tables\n",
    "<a id = 'load'></a>"
   ]
  },
  {
   "cell_type": "markdown",
   "id": "fa18e8a1",
   "metadata": {},
   "source": [
    "For step 3, please refer to the file ***Create Data Query.sql***."
   ]
  },
  {
   "cell_type": "markdown",
   "id": "6b7e2a29",
   "metadata": {},
   "source": [
    "The Bureau of Transportation and Statistics database is divided by quarters. So I had to run the MySQL query four times to append every quarter to a whole table representing the year. I did the same for every DB1B table.\n",
    "\n",
    "I ended up with six tables of **15 million rows** each, on average.\n",
    "\n",
    "Loaded final tables:\n",
    "   - ticket_2018\n",
    "   - ticket_2019\n",
    "   - market_2018\n",
    "   - market_2019\n",
    "   - coupon_2018\n",
    "   - coupon_2019"
   ]
  },
  {
   "cell_type": "markdown",
   "id": "138390ab",
   "metadata": {},
   "source": [
    " "
   ]
  },
  {
   "cell_type": "markdown",
   "id": "c6ea504a",
   "metadata": {},
   "source": [
    "#### Step 4: Initial EDA\n",
    "<a id = 'eda'></a>"
   ]
  },
  {
   "cell_type": "markdown",
   "id": "9fc28f4b",
   "metadata": {},
   "source": [
    "For step 4, please refer to the files ***Capstone EDA.sql*** and ***ROUTE_DB.sql***."
   ]
  },
  {
   "cell_type": "markdown",
   "id": "58896582",
   "metadata": {},
   "source": [
    "Regarding my initial Business Question, I needed data regarding Origin, Destination, Fare Class, Miles Flown, and Fare paid by customers. However, I could only have all that information, combining the three DB1B tables. \n",
    "\n",
    "Using MySQL (file 'Capstone EDA.sql'), I first joined the ***ticket*** and the ***market*** tables, taking a sample of 10% out of that. Later, I joined the outcome of this query with the ***coupon*** table, resulting in my final table per year.\n",
    "\n",
    "Next, I combined those two final tables into a single one called ***pre_covid_route***.\n",
    "\n",
    "As the second part of this Initial EDA, I checked/deleted duplicated rows and then deleted null values where ***ItinFare*** and ***FareClass*** were equal to zero.  \n",
    "\n",
    "I also dropped rows where the column ***DollarCred*** equals zero and ***BulkFare*** equals one. The ***DollarCred*** is a column that tells if the reported data is credible or not, \"1\" means credible, \"0\" means not credible. On the other hand, the ***BulkFare*** is a column that tells if that ticket is a flat rate one, associated with a program and ticket designator, \"1\" means bulk, \"0\" means not bulk.\n",
    "\n",
    "Following this, I reassigned the ***FareClass*** column. The data provided contained seven types of different classes, and I decided to combine all into three classes, *Economy*, *Business* and *First*. If any of those original classes could not be reassigned to one of the three new ones, I dropped it.  \n",
    "\n",
    "Additionally, I created a new column called ***Route*** as a concatenation of the ***Origin*** and ***Dest*** columns.\n",
    "\n",
    "Lastly, I dropped columns with duplicated information. For example, ***Origin*** and ***OriginAirportID***."
   ]
  },
  {
   "cell_type": "markdown",
   "id": "e15a8fef",
   "metadata": {},
   "source": [
    "---"
   ]
  },
  {
   "cell_type": "markdown",
   "id": "559599b6",
   "metadata": {},
   "source": [
    "### Next Steps\n",
    "<a id = 'next'></a>"
   ]
  },
  {
   "cell_type": "markdown",
   "id": "db07b156",
   "metadata": {},
   "source": [
    "Having a clean and consistent dataset extracted from MySQL, I exported the ***pre_covid_route*** table as a *.CSV* to be used as the dataset for a few more EDA steps and later testing models."
   ]
  },
  {
   "cell_type": "markdown",
   "id": "e022efca",
   "metadata": {},
   "source": [
    "---"
   ]
  },
  {
   "cell_type": "markdown",
   "id": "0089cde4",
   "metadata": {},
   "source": [
    "### Reference\n",
    "<a id = 'reference'></a>"
   ]
  },
  {
   "cell_type": "markdown",
   "id": "ed488983",
   "metadata": {},
   "source": [
    "   - [Database](https://www.transtats.bts.gov/Tables.asp?QO_VQ=EFI&QO_anzr=Nv4yv0r%FDb4vtv0%FDn0q%FDQr56v0n6v10%FDf748rB%FD%FLQOEO%FM&QO_fu146_anzr=b4vtv0%FDn0q%FDQr56v0n6v10%FDf748rB)\n",
    "       - Airline Origin and Destination Survey (DB1B)"
   ]
  }
 ],
 "metadata": {
  "kernelspec": {
   "display_name": "Python 3 (ipykernel)",
   "language": "python",
   "name": "python3"
  },
  "language_info": {
   "codemirror_mode": {
    "name": "ipython",
    "version": 3
   },
   "file_extension": ".py",
   "mimetype": "text/x-python",
   "name": "python",
   "nbconvert_exporter": "python",
   "pygments_lexer": "ipython3",
   "version": "3.9.7"
  }
 },
 "nbformat": 4,
 "nbformat_minor": 5
}
