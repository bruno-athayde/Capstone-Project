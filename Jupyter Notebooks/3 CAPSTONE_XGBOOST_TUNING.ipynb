{
 "cells": [
  {
   "cell_type": "markdown",
   "id": "e6f45e51",
   "metadata": {},
   "source": [
    "# Capstone Project\n",
    "### Jupyter Notebook (3/4)"
   ]
  },
  {
   "cell_type": "markdown",
   "id": "80e6d37a",
   "metadata": {},
   "source": [
    " "
   ]
  },
  {
   "cell_type": "markdown",
   "id": "78a497e0",
   "metadata": {},
   "source": [
    "### Bruno Athayde e Silva - 448898"
   ]
  },
  {
   "cell_type": "markdown",
   "id": "0abb7da6",
   "metadata": {},
   "source": [
    "#### XGBoost Tuning"
   ]
  },
  {
   "cell_type": "markdown",
   "id": "0c68ae8c",
   "metadata": {},
   "source": [
    "---"
   ]
  },
  {
   "cell_type": "markdown",
   "id": "03721cd1",
   "metadata": {},
   "source": [
    "### Table of Contents"
   ]
  },
  {
   "cell_type": "markdown",
   "id": "0e604983",
   "metadata": {},
   "source": [
    "### [Introduction](#introduction)\n",
    "\n",
    "### [Methodology](#methodology)\n",
    "\n",
    "   - [Step 1: Optimal scaler, 'learning_rate' and 'n_estimators'](#step_1)\n",
    "   \n",
    "   - [Step 2: Optimal 'max_depth', 'reg_alpha', 'reg_lambda'](#step_2)\n",
    "   \n",
    "   - [Step 3: Optimal 'subsample' and 'colsample_bytree'](#step_3)\n",
    "   \n",
    "### [Next Steps](#next)"
   ]
  },
  {
   "cell_type": "markdown",
   "id": "77993f19",
   "metadata": {},
   "source": [
    "---"
   ]
  },
  {
   "cell_type": "markdown",
   "id": "9967e58e",
   "metadata": {},
   "source": [
    "### Introduction\n",
    "<a id = 'introduction'></a>"
   ]
  },
  {
   "cell_type": "markdown",
   "id": "06e20ef6",
   "metadata": {},
   "source": [
    "In this third Jupyter Notebook, the goal is to find the most suitable hyperparameters for the model predicting ***FarePerMile***. Later, those values would help optimize the XGBoost Regression to predict the target variable using the model's features.\n",
    "\n",
    "I will start importing some essential libraries and loading the cleaned data from the EDA Jupyter Notebook.  "
   ]
  },
  {
   "cell_type": "code",
   "execution_count": 1,
   "id": "c5da940a",
   "metadata": {},
   "outputs": [],
   "source": [
    "# import libraries\n",
    "import pandas as pd\n",
    "import numpy as np\n",
    "import matplotlib.pyplot as plt\n",
    "%matplotlib inline\n",
    "import seaborn as sns\n",
    "\n",
    "\n",
    "# ignore warnings\n",
    "import warnings\n",
    "warnings.filterwarnings('ignore')"
   ]
  },
  {
   "cell_type": "code",
   "execution_count": 2,
   "id": "0c0afee4",
   "metadata": {},
   "outputs": [],
   "source": [
    "# set the display to show every column and row\n",
    "pd.set_option('display.max_columns', None)\n",
    "pd.set_option('display.max_rows', None)"
   ]
  },
  {
   "cell_type": "code",
   "execution_count": 3,
   "id": "241871a8",
   "metadata": {},
   "outputs": [],
   "source": [
    "# load the data\n",
    "X = pd.read_csv('/Volumes/GoogleDrive/My Drive/BrainStation/CAPSTONE/DATABASE/FINAL/tkt_final_X.csv')\n",
    "X = X.drop(columns = 'Unnamed: 0')\n",
    "\n",
    "y = pd.read_csv('/Volumes/GoogleDrive/My Drive/BrainStation/CAPSTONE/DATABASE/FINAL/tkt_final_Y.csv')\n",
    "y = y.drop(columns = 'Unnamed: 0')"
   ]
  },
  {
   "cell_type": "code",
   "execution_count": 4,
   "id": "3e4af4c5",
   "metadata": {},
   "outputs": [
    {
     "name": "stdout",
     "output_type": "stream",
     "text": [
      "<class 'pandas.core.frame.DataFrame'>\n",
      "RangeIndex: 731515 entries, 0 to 731514\n",
      "Columns: 585 entries, _Year to TPA-PHL\n",
      "dtypes: float64(3), int64(582)\n",
      "memory usage: 3.2 GB\n"
     ]
    }
   ],
   "source": [
    "# check the dataframe\n",
    "X.info()"
   ]
  },
  {
   "cell_type": "code",
   "execution_count": 5,
   "id": "e8f7ff7c",
   "metadata": {},
   "outputs": [
    {
     "name": "stdout",
     "output_type": "stream",
     "text": [
      "<class 'pandas.core.frame.DataFrame'>\n",
      "RangeIndex: 731515 entries, 0 to 731514\n",
      "Data columns (total 1 columns):\n",
      " #   Column       Non-Null Count   Dtype  \n",
      "---  ------       --------------   -----  \n",
      " 0   FarePerMile  731515 non-null  float64\n",
      "dtypes: float64(1)\n",
      "memory usage: 5.6 MB\n"
     ]
    }
   ],
   "source": [
    "# check the dataframe\n",
    "y.info()"
   ]
  },
  {
   "cell_type": "markdown",
   "id": "1a5bd96a",
   "metadata": {},
   "source": [
    "---"
   ]
  },
  {
   "cell_type": "markdown",
   "id": "a89fff9d",
   "metadata": {},
   "source": [
    "### Methodology\n",
    "<a id = 'methodology'></a>"
   ]
  },
  {
   "cell_type": "markdown",
   "id": "73584111",
   "metadata": {},
   "source": [
    "After loading the dataset and defining **X** and **y**, I first need to split the dataset into Training, Validation and Test, and then start working with the model. \n",
    "\n",
    "After splitting the dataset, I will import a few additional libraries and start testing the hyperparameters for the XGBoost model, using **Pipeline** and **GridSearchCV**, from Scikit-Learn. "
   ]
  },
  {
   "cell_type": "code",
   "execution_count": 6,
   "id": "3b5f99c8",
   "metadata": {},
   "outputs": [],
   "source": [
    "# import train_test_split\n",
    "from sklearn.model_selection import train_test_split"
   ]
  },
  {
   "cell_type": "code",
   "execution_count": 7,
   "id": "adc7c382",
   "metadata": {},
   "outputs": [],
   "source": [
    "# train_test_split\n",
    "# first split\n",
    "X_rem, X_test, y_rem, y_test = train_test_split(X,    \n",
    "                                                y,\n",
    "                                                test_size = 0.10,     \n",
    "                                                random_state = 15)"
   ]
  },
  {
   "cell_type": "code",
   "execution_count": 8,
   "id": "420e10be",
   "metadata": {},
   "outputs": [],
   "source": [
    "# train_test_split\n",
    "# first split\n",
    "X_train, X_valid, y_train, y_valid = train_test_split(X_rem, \n",
    "                                                      y_rem, \n",
    "                                                      test_size = 0.15, \n",
    "                                                      random_state = 15)"
   ]
  },
  {
   "cell_type": "code",
   "execution_count": 9,
   "id": "d193097f",
   "metadata": {},
   "outputs": [
    {
     "name": "stdout",
     "output_type": "stream",
     "text": [
      "The shape of the X_train dataframe is: (559608, 585).\n",
      "The shape of the X_valid dataframe is: (98755, 585).\n",
      "The shape of the X_test dataframe is: (73152, 585).\n",
      "\n",
      "The shape of the y_train dataframe is: (559608, 1).\n",
      "The shape of the y_valid dataframe is: (98755, 1).\n",
      "The shape of the y_test dataframe is: (73152, 1).\n",
      "\n"
     ]
    }
   ],
   "source": [
    "# check dataframes shapes\n",
    "print(f\"The shape of the X_train dataframe is: {X_train.shape}.\")\n",
    "print(f\"The shape of the X_valid dataframe is: {X_valid.shape}.\")\n",
    "print(f\"The shape of the X_test dataframe is: {X_test.shape}.\\n\")\n",
    "print(f\"The shape of the y_train dataframe is: {y_train.shape}.\")\n",
    "print(f\"The shape of the y_valid dataframe is: {y_valid.shape}.\")\n",
    "print(f\"The shape of the y_test dataframe is: {y_test.shape}.\\n\")"
   ]
  },
  {
   "cell_type": "code",
   "execution_count": 10,
   "id": "2802dba9",
   "metadata": {},
   "outputs": [],
   "source": [
    "# import additional libraries \n",
    "from sklearn.preprocessing import MinMaxScaler, StandardScaler\n",
    "from xgboost import XGBRegressor\n",
    "from sklearn.metrics import r2_score, mean_absolute_error\n",
    "from sklearn.model_selection import GridSearchCV\n",
    "from sklearn.pipeline import Pipeline\n",
    "from yellowbrick.regressor import residuals_plot\n",
    "from yellowbrick.regressor import prediction_error"
   ]
  },
  {
   "cell_type": "markdown",
   "id": "8b0d8d55",
   "metadata": {},
   "source": [
    " "
   ]
  },
  {
   "cell_type": "markdown",
   "id": "a3872e2b",
   "metadata": {},
   "source": [
    "#### Step 1: Optimal scaler, 'learning_rate' and 'n_estimators'\n",
    "<a id = 'step_1'></a>"
   ]
  },
  {
   "cell_type": "markdown",
   "id": "3c0b528f",
   "metadata": {},
   "source": [
    "Due to hardware limitations, I will use **Pipeline** and **GridSearchCV** in three steps. \n",
    "\n",
    "In this first step, I will start tuning: \n",
    "   - scaler \n",
    "   - 'learning_rate' \n",
    "   - 'n_estimators'"
   ]
  },
  {
   "cell_type": "code",
   "execution_count": 11,
   "id": "7a64e4a7",
   "metadata": {},
   "outputs": [
    {
     "name": "stdout",
     "output_type": "stream",
     "text": [
      "Fitting 3 folds for each of 24 candidates, totalling 72 fits\n"
     ]
    },
    {
     "data": {
      "text/html": [
       "<style>#sk-container-id-1 {color: black;background-color: white;}#sk-container-id-1 pre{padding: 0;}#sk-container-id-1 div.sk-toggleable {background-color: white;}#sk-container-id-1 label.sk-toggleable__label {cursor: pointer;display: block;width: 100%;margin-bottom: 0;padding: 0.3em;box-sizing: border-box;text-align: center;}#sk-container-id-1 label.sk-toggleable__label-arrow:before {content: \"▸\";float: left;margin-right: 0.25em;color: #696969;}#sk-container-id-1 label.sk-toggleable__label-arrow:hover:before {color: black;}#sk-container-id-1 div.sk-estimator:hover label.sk-toggleable__label-arrow:before {color: black;}#sk-container-id-1 div.sk-toggleable__content {max-height: 0;max-width: 0;overflow: hidden;text-align: left;background-color: #f0f8ff;}#sk-container-id-1 div.sk-toggleable__content pre {margin: 0.2em;color: black;border-radius: 0.25em;background-color: #f0f8ff;}#sk-container-id-1 input.sk-toggleable__control:checked~div.sk-toggleable__content {max-height: 200px;max-width: 100%;overflow: auto;}#sk-container-id-1 input.sk-toggleable__control:checked~label.sk-toggleable__label-arrow:before {content: \"▾\";}#sk-container-id-1 div.sk-estimator input.sk-toggleable__control:checked~label.sk-toggleable__label {background-color: #d4ebff;}#sk-container-id-1 div.sk-label input.sk-toggleable__control:checked~label.sk-toggleable__label {background-color: #d4ebff;}#sk-container-id-1 input.sk-hidden--visually {border: 0;clip: rect(1px 1px 1px 1px);clip: rect(1px, 1px, 1px, 1px);height: 1px;margin: -1px;overflow: hidden;padding: 0;position: absolute;width: 1px;}#sk-container-id-1 div.sk-estimator {font-family: monospace;background-color: #f0f8ff;border: 1px dotted black;border-radius: 0.25em;box-sizing: border-box;margin-bottom: 0.5em;}#sk-container-id-1 div.sk-estimator:hover {background-color: #d4ebff;}#sk-container-id-1 div.sk-parallel-item::after {content: \"\";width: 100%;border-bottom: 1px solid gray;flex-grow: 1;}#sk-container-id-1 div.sk-label:hover label.sk-toggleable__label {background-color: #d4ebff;}#sk-container-id-1 div.sk-serial::before {content: \"\";position: absolute;border-left: 1px solid gray;box-sizing: border-box;top: 0;bottom: 0;left: 50%;z-index: 0;}#sk-container-id-1 div.sk-serial {display: flex;flex-direction: column;align-items: center;background-color: white;padding-right: 0.2em;padding-left: 0.2em;position: relative;}#sk-container-id-1 div.sk-item {position: relative;z-index: 1;}#sk-container-id-1 div.sk-parallel {display: flex;align-items: stretch;justify-content: center;background-color: white;position: relative;}#sk-container-id-1 div.sk-item::before, #sk-container-id-1 div.sk-parallel-item::before {content: \"\";position: absolute;border-left: 1px solid gray;box-sizing: border-box;top: 0;bottom: 0;left: 50%;z-index: -1;}#sk-container-id-1 div.sk-parallel-item {display: flex;flex-direction: column;z-index: 1;position: relative;background-color: white;}#sk-container-id-1 div.sk-parallel-item:first-child::after {align-self: flex-end;width: 50%;}#sk-container-id-1 div.sk-parallel-item:last-child::after {align-self: flex-start;width: 50%;}#sk-container-id-1 div.sk-parallel-item:only-child::after {width: 0;}#sk-container-id-1 div.sk-dashed-wrapped {border: 1px dashed gray;margin: 0 0.4em 0.5em 0.4em;box-sizing: border-box;padding-bottom: 0.4em;background-color: white;}#sk-container-id-1 div.sk-label label {font-family: monospace;font-weight: bold;display: inline-block;line-height: 1.2em;}#sk-container-id-1 div.sk-label-container {text-align: center;}#sk-container-id-1 div.sk-container {/* jupyter's `normalize.less` sets `[hidden] { display: none; }` but bootstrap.min.css set `[hidden] { display: none !important; }` so we also need the `!important` here to be able to override the default hidden behavior on the sphinx rendered scikit-learn.org. See: https://github.com/scikit-learn/scikit-learn/issues/21755 */display: inline-block !important;position: relative;}#sk-container-id-1 div.sk-text-repr-fallback {display: none;}</style><div id=\"sk-container-id-1\" class=\"sk-top-container\"><div class=\"sk-text-repr-fallback\"><pre>GridSearchCV(cv=3,\n",
       "             estimator=Pipeline(steps=[(&#x27;scaling&#x27;, StandardScaler()),\n",
       "                                       (&#x27;model&#x27;,\n",
       "                                        XGBRegressor(base_score=None,\n",
       "                                                     booster=None,\n",
       "                                                     colsample_bylevel=None,\n",
       "                                                     colsample_bynode=None,\n",
       "                                                     colsample_bytree=None,\n",
       "                                                     gamma=None, gpu_id=None,\n",
       "                                                     importance_type=&#x27;gain&#x27;,\n",
       "                                                     interaction_constraints=None,\n",
       "                                                     learning_rate=None,\n",
       "                                                     max_delta_step=None,\n",
       "                                                     max_depth=None,\n",
       "                                                     min_child_weight=None,\n",
       "                                                     missing=...\n",
       "                                                 n_estimators=1000, n_jobs=None,\n",
       "                                                 num_parallel_tree=None,\n",
       "                                                 random_state=None,\n",
       "                                                 reg_alpha=None,\n",
       "                                                 reg_lambda=None,\n",
       "                                                 scale_pos_weight=None,\n",
       "                                                 subsample=None,\n",
       "                                                 tree_method=&#x27;hist&#x27;,\n",
       "                                                 validate_parameters=None,\n",
       "                                                 verbosity=None)],\n",
       "                          &#x27;model__learning_rate&#x27;: [0.1, 0.2, 0.3],\n",
       "                          &#x27;model__n_estimators&#x27;: [350, 500, 750, 1000],\n",
       "                          &#x27;scaling&#x27;: [MinMaxScaler(), StandardScaler()]}],\n",
       "             scoring=&#x27;neg_mean_squared_error&#x27;, verbose=1)</pre><b>In a Jupyter environment, please rerun this cell to show the HTML representation or trust the notebook. <br />On GitHub, the HTML representation is unable to render, please try loading this page with nbviewer.org.</b></div><div class=\"sk-container\" hidden><div class=\"sk-item sk-dashed-wrapped\"><div class=\"sk-label-container\"><div class=\"sk-label sk-toggleable\"><input class=\"sk-toggleable__control sk-hidden--visually\" id=\"sk-estimator-id-1\" type=\"checkbox\" ><label for=\"sk-estimator-id-1\" class=\"sk-toggleable__label sk-toggleable__label-arrow\">GridSearchCV</label><div class=\"sk-toggleable__content\"><pre>GridSearchCV(cv=3,\n",
       "             estimator=Pipeline(steps=[(&#x27;scaling&#x27;, StandardScaler()),\n",
       "                                       (&#x27;model&#x27;,\n",
       "                                        XGBRegressor(base_score=None,\n",
       "                                                     booster=None,\n",
       "                                                     colsample_bylevel=None,\n",
       "                                                     colsample_bynode=None,\n",
       "                                                     colsample_bytree=None,\n",
       "                                                     gamma=None, gpu_id=None,\n",
       "                                                     importance_type=&#x27;gain&#x27;,\n",
       "                                                     interaction_constraints=None,\n",
       "                                                     learning_rate=None,\n",
       "                                                     max_delta_step=None,\n",
       "                                                     max_depth=None,\n",
       "                                                     min_child_weight=None,\n",
       "                                                     missing=...\n",
       "                                                 n_estimators=1000, n_jobs=None,\n",
       "                                                 num_parallel_tree=None,\n",
       "                                                 random_state=None,\n",
       "                                                 reg_alpha=None,\n",
       "                                                 reg_lambda=None,\n",
       "                                                 scale_pos_weight=None,\n",
       "                                                 subsample=None,\n",
       "                                                 tree_method=&#x27;hist&#x27;,\n",
       "                                                 validate_parameters=None,\n",
       "                                                 verbosity=None)],\n",
       "                          &#x27;model__learning_rate&#x27;: [0.1, 0.2, 0.3],\n",
       "                          &#x27;model__n_estimators&#x27;: [350, 500, 750, 1000],\n",
       "                          &#x27;scaling&#x27;: [MinMaxScaler(), StandardScaler()]}],\n",
       "             scoring=&#x27;neg_mean_squared_error&#x27;, verbose=1)</pre></div></div></div><div class=\"sk-parallel\"><div class=\"sk-parallel-item\"><div class=\"sk-item\"><div class=\"sk-label-container\"><div class=\"sk-label sk-toggleable\"><input class=\"sk-toggleable__control sk-hidden--visually\" id=\"sk-estimator-id-2\" type=\"checkbox\" ><label for=\"sk-estimator-id-2\" class=\"sk-toggleable__label sk-toggleable__label-arrow\">estimator: Pipeline</label><div class=\"sk-toggleable__content\"><pre>Pipeline(steps=[(&#x27;scaling&#x27;, StandardScaler()),\n",
       "                (&#x27;model&#x27;,\n",
       "                 XGBRegressor(base_score=None, booster=None,\n",
       "                              colsample_bylevel=None, colsample_bynode=None,\n",
       "                              colsample_bytree=None, gamma=None, gpu_id=None,\n",
       "                              importance_type=&#x27;gain&#x27;,\n",
       "                              interaction_constraints=None, learning_rate=None,\n",
       "                              max_delta_step=None, max_depth=None,\n",
       "                              min_child_weight=None, missing=nan,\n",
       "                              monotone_constraints=None, n_estimators=100,\n",
       "                              n_jobs=None, num_parallel_tree=None,\n",
       "                              random_state=None, reg_alpha=None,\n",
       "                              reg_lambda=None, scale_pos_weight=None,\n",
       "                              subsample=None, tree_method=None,\n",
       "                              validate_parameters=None, verbosity=None))])</pre></div></div></div><div class=\"sk-serial\"><div class=\"sk-item\"><div class=\"sk-serial\"><div class=\"sk-item\"><div class=\"sk-estimator sk-toggleable\"><input class=\"sk-toggleable__control sk-hidden--visually\" id=\"sk-estimator-id-3\" type=\"checkbox\" ><label for=\"sk-estimator-id-3\" class=\"sk-toggleable__label sk-toggleable__label-arrow\">StandardScaler</label><div class=\"sk-toggleable__content\"><pre>StandardScaler()</pre></div></div></div><div class=\"sk-item\"><div class=\"sk-estimator sk-toggleable\"><input class=\"sk-toggleable__control sk-hidden--visually\" id=\"sk-estimator-id-4\" type=\"checkbox\" ><label for=\"sk-estimator-id-4\" class=\"sk-toggleable__label sk-toggleable__label-arrow\">XGBRegressor</label><div class=\"sk-toggleable__content\"><pre>XGBRegressor(base_score=None, booster=None, colsample_bylevel=None,\n",
       "             colsample_bynode=None, colsample_bytree=None, gamma=None,\n",
       "             gpu_id=None, importance_type=&#x27;gain&#x27;, interaction_constraints=None,\n",
       "             learning_rate=None, max_delta_step=None, max_depth=None,\n",
       "             min_child_weight=None, missing=nan, monotone_constraints=None,\n",
       "             n_estimators=100, n_jobs=None, num_parallel_tree=None,\n",
       "             random_state=None, reg_alpha=None, reg_lambda=None,\n",
       "             scale_pos_weight=None, subsample=None, tree_method=None,\n",
       "             validate_parameters=None, verbosity=None)</pre></div></div></div></div></div></div></div></div></div></div></div></div>"
      ],
      "text/plain": [
       "GridSearchCV(cv=3,\n",
       "             estimator=Pipeline(steps=[('scaling', StandardScaler()),\n",
       "                                       ('model',\n",
       "                                        XGBRegressor(base_score=None,\n",
       "                                                     booster=None,\n",
       "                                                     colsample_bylevel=None,\n",
       "                                                     colsample_bynode=None,\n",
       "                                                     colsample_bytree=None,\n",
       "                                                     gamma=None, gpu_id=None,\n",
       "                                                     importance_type='gain',\n",
       "                                                     interaction_constraints=None,\n",
       "                                                     learning_rate=None,\n",
       "                                                     max_delta_step=None,\n",
       "                                                     max_depth=None,\n",
       "                                                     min_child_weight=None,\n",
       "                                                     missing=...\n",
       "                                                 n_estimators=1000, n_jobs=None,\n",
       "                                                 num_parallel_tree=None,\n",
       "                                                 random_state=None,\n",
       "                                                 reg_alpha=None,\n",
       "                                                 reg_lambda=None,\n",
       "                                                 scale_pos_weight=None,\n",
       "                                                 subsample=None,\n",
       "                                                 tree_method='hist',\n",
       "                                                 validate_parameters=None,\n",
       "                                                 verbosity=None)],\n",
       "                          'model__learning_rate': [0.1, 0.2, 0.3],\n",
       "                          'model__n_estimators': [350, 500, 750, 1000],\n",
       "                          'scaling': [MinMaxScaler(), StandardScaler()]}],\n",
       "             scoring='neg_mean_squared_error', verbose=1)"
      ]
     },
     "execution_count": 11,
     "metadata": {},
     "output_type": "execute_result"
    }
   ],
   "source": [
    "# combine XGBoost and GridSearchCV\n",
    "# Step 1: Setting optimal Scaler, 'learning_rate' and n_estimators\n",
    "\n",
    "# create placeholders for all three steps\n",
    "estimators = [\n",
    "    ('scaling', StandardScaler()),\n",
    "    ('model', XGBRegressor())\n",
    "]\n",
    "\n",
    "# instantiate Pipeline with the estimators above\n",
    "pipe = Pipeline(estimators)\n",
    "\n",
    "# define parameters for GridSearchCV()\n",
    "params = [\n",
    "    {\n",
    "        'scaling': [MinMaxScaler(), StandardScaler()],\n",
    "        'model': [XGBRegressor(tree_method = 'hist')], \n",
    "        'model__learning_rate': [0.1, 0.2, 0.3], \n",
    "        'model__n_estimators': [350, 500, 750, 1000]\n",
    "    }\n",
    "]\n",
    "\n",
    "# instantiate GridSearchCV() using Pipeline as an estimator\n",
    "# and the parameters set above\n",
    "grid = GridSearchCV(estimator = pipe, \n",
    "                    param_grid = params, \n",
    "                    scoring = 'neg_mean_squared_error', \n",
    "                    verbose = 1, \n",
    "                    cv = 3)\n",
    "\n",
    "# fit the GridSearchCV()\n",
    "grid.fit(X_train, y_train)\n"
   ]
  },
  {
   "cell_type": "code",
   "execution_count": 12,
   "id": "0839cc99",
   "metadata": {},
   "outputs": [
    {
     "name": "stdout",
     "output_type": "stream",
     "text": [
      "Best parameters: {'model': XGBRegressor(base_score=None, booster=None, colsample_bylevel=None,\n",
      "             colsample_bynode=None, colsample_bytree=None, gamma=None,\n",
      "             gpu_id=None, importance_type='gain', interaction_constraints=None,\n",
      "             learning_rate=0.2, max_delta_step=None, max_depth=None,\n",
      "             min_child_weight=None, missing=nan, monotone_constraints=None,\n",
      "             n_estimators=1000, n_jobs=None, num_parallel_tree=None,\n",
      "             random_state=None, reg_alpha=None, reg_lambda=None,\n",
      "             scale_pos_weight=None, subsample=None, tree_method='hist',\n",
      "             validate_parameters=None, verbosity=None), 'model__learning_rate': 0.2, 'model__n_estimators': 1000, 'scaling': MinMaxScaler()}.\n"
     ]
    }
   ],
   "source": [
    "# check best parameters for the first step\n",
    "print(f\"Best parameters: {grid.best_params_}.\")"
   ]
  },
  {
   "cell_type": "markdown",
   "id": "2262f277",
   "metadata": {},
   "source": [
    "As a result of the first GridSearchCV, using 3 folds, the best parameters are:\n",
    "\n",
    "   - Scaler: MinMaxScaler( )\n",
    "   - Model: learning_rate --> 0.2\n",
    "   - Model: n_estimators --> 1000\n",
    "   \n",
    "Those parameters will be hard-coded in the next GridSearchCV step."
   ]
  },
  {
   "cell_type": "markdown",
   "id": "07ec2ad1",
   "metadata": {},
   "source": [
    " "
   ]
  },
  {
   "cell_type": "markdown",
   "id": "7252e67a",
   "metadata": {},
   "source": [
    "#### Step 2: Optimal max_depth, reg_alpha, reg_lambda\n",
    "<a id = 'step_2'></a>"
   ]
  },
  {
   "cell_type": "markdown",
   "id": "05edae88",
   "metadata": {},
   "source": [
    "In this second step, given the tuned hyperparameters above, I will tune: \n",
    "   - max_depth\n",
    "   - reg_alpha\n",
    "   - reg_lambda"
   ]
  },
  {
   "cell_type": "code",
   "execution_count": 13,
   "id": "d62192eb",
   "metadata": {},
   "outputs": [
    {
     "name": "stdout",
     "output_type": "stream",
     "text": [
      "Fitting 3 folds for each of 84 candidates, totalling 252 fits\n"
     ]
    },
    {
     "data": {
      "text/html": [
       "<style>#sk-container-id-2 {color: black;background-color: white;}#sk-container-id-2 pre{padding: 0;}#sk-container-id-2 div.sk-toggleable {background-color: white;}#sk-container-id-2 label.sk-toggleable__label {cursor: pointer;display: block;width: 100%;margin-bottom: 0;padding: 0.3em;box-sizing: border-box;text-align: center;}#sk-container-id-2 label.sk-toggleable__label-arrow:before {content: \"▸\";float: left;margin-right: 0.25em;color: #696969;}#sk-container-id-2 label.sk-toggleable__label-arrow:hover:before {color: black;}#sk-container-id-2 div.sk-estimator:hover label.sk-toggleable__label-arrow:before {color: black;}#sk-container-id-2 div.sk-toggleable__content {max-height: 0;max-width: 0;overflow: hidden;text-align: left;background-color: #f0f8ff;}#sk-container-id-2 div.sk-toggleable__content pre {margin: 0.2em;color: black;border-radius: 0.25em;background-color: #f0f8ff;}#sk-container-id-2 input.sk-toggleable__control:checked~div.sk-toggleable__content {max-height: 200px;max-width: 100%;overflow: auto;}#sk-container-id-2 input.sk-toggleable__control:checked~label.sk-toggleable__label-arrow:before {content: \"▾\";}#sk-container-id-2 div.sk-estimator input.sk-toggleable__control:checked~label.sk-toggleable__label {background-color: #d4ebff;}#sk-container-id-2 div.sk-label input.sk-toggleable__control:checked~label.sk-toggleable__label {background-color: #d4ebff;}#sk-container-id-2 input.sk-hidden--visually {border: 0;clip: rect(1px 1px 1px 1px);clip: rect(1px, 1px, 1px, 1px);height: 1px;margin: -1px;overflow: hidden;padding: 0;position: absolute;width: 1px;}#sk-container-id-2 div.sk-estimator {font-family: monospace;background-color: #f0f8ff;border: 1px dotted black;border-radius: 0.25em;box-sizing: border-box;margin-bottom: 0.5em;}#sk-container-id-2 div.sk-estimator:hover {background-color: #d4ebff;}#sk-container-id-2 div.sk-parallel-item::after {content: \"\";width: 100%;border-bottom: 1px solid gray;flex-grow: 1;}#sk-container-id-2 div.sk-label:hover label.sk-toggleable__label {background-color: #d4ebff;}#sk-container-id-2 div.sk-serial::before {content: \"\";position: absolute;border-left: 1px solid gray;box-sizing: border-box;top: 0;bottom: 0;left: 50%;z-index: 0;}#sk-container-id-2 div.sk-serial {display: flex;flex-direction: column;align-items: center;background-color: white;padding-right: 0.2em;padding-left: 0.2em;position: relative;}#sk-container-id-2 div.sk-item {position: relative;z-index: 1;}#sk-container-id-2 div.sk-parallel {display: flex;align-items: stretch;justify-content: center;background-color: white;position: relative;}#sk-container-id-2 div.sk-item::before, #sk-container-id-2 div.sk-parallel-item::before {content: \"\";position: absolute;border-left: 1px solid gray;box-sizing: border-box;top: 0;bottom: 0;left: 50%;z-index: -1;}#sk-container-id-2 div.sk-parallel-item {display: flex;flex-direction: column;z-index: 1;position: relative;background-color: white;}#sk-container-id-2 div.sk-parallel-item:first-child::after {align-self: flex-end;width: 50%;}#sk-container-id-2 div.sk-parallel-item:last-child::after {align-self: flex-start;width: 50%;}#sk-container-id-2 div.sk-parallel-item:only-child::after {width: 0;}#sk-container-id-2 div.sk-dashed-wrapped {border: 1px dashed gray;margin: 0 0.4em 0.5em 0.4em;box-sizing: border-box;padding-bottom: 0.4em;background-color: white;}#sk-container-id-2 div.sk-label label {font-family: monospace;font-weight: bold;display: inline-block;line-height: 1.2em;}#sk-container-id-2 div.sk-label-container {text-align: center;}#sk-container-id-2 div.sk-container {/* jupyter's `normalize.less` sets `[hidden] { display: none; }` but bootstrap.min.css set `[hidden] { display: none !important; }` so we also need the `!important` here to be able to override the default hidden behavior on the sphinx rendered scikit-learn.org. See: https://github.com/scikit-learn/scikit-learn/issues/21755 */display: inline-block !important;position: relative;}#sk-container-id-2 div.sk-text-repr-fallback {display: none;}</style><div id=\"sk-container-id-2\" class=\"sk-top-container\"><div class=\"sk-text-repr-fallback\"><pre>GridSearchCV(cv=3,\n",
       "             estimator=Pipeline(steps=[(&#x27;scaling&#x27;, StandardScaler()),\n",
       "                                       (&#x27;model&#x27;,\n",
       "                                        XGBRegressor(base_score=None,\n",
       "                                                     booster=None,\n",
       "                                                     colsample_bylevel=None,\n",
       "                                                     colsample_bynode=None,\n",
       "                                                     colsample_bytree=None,\n",
       "                                                     gamma=None, gpu_id=None,\n",
       "                                                     importance_type=&#x27;gain&#x27;,\n",
       "                                                     interaction_constraints=None,\n",
       "                                                     learning_rate=None,\n",
       "                                                     max_delta_step=None,\n",
       "                                                     max_depth=None,\n",
       "                                                     min_child_weight=None,\n",
       "                                                     missing=...\n",
       "                                                 random_state=None, reg_alpha=1,\n",
       "                                                 reg_lambda=0.8,\n",
       "                                                 scale_pos_weight=None,\n",
       "                                                 subsample=None,\n",
       "                                                 tree_method=&#x27;hist&#x27;,\n",
       "                                                 validate_parameters=None,\n",
       "                                                 verbosity=None)],\n",
       "                          &#x27;model__learning_rate&#x27;: [0.2],\n",
       "                          &#x27;model__max_depth&#x27;: [5, 4, 6, 7, 8, 9, 10],\n",
       "                          &#x27;model__n_estimators&#x27;: [1000],\n",
       "                          &#x27;model__reg_alpha&#x27;: [0.01, 0.1, 1, 10],\n",
       "                          &#x27;model__reg_lambda&#x27;: [0.8, 1, 1.2],\n",
       "                          &#x27;scaling&#x27;: [MinMaxScaler()]}],\n",
       "             scoring=&#x27;neg_mean_squared_error&#x27;, verbose=1)</pre><b>In a Jupyter environment, please rerun this cell to show the HTML representation or trust the notebook. <br />On GitHub, the HTML representation is unable to render, please try loading this page with nbviewer.org.</b></div><div class=\"sk-container\" hidden><div class=\"sk-item sk-dashed-wrapped\"><div class=\"sk-label-container\"><div class=\"sk-label sk-toggleable\"><input class=\"sk-toggleable__control sk-hidden--visually\" id=\"sk-estimator-id-5\" type=\"checkbox\" ><label for=\"sk-estimator-id-5\" class=\"sk-toggleable__label sk-toggleable__label-arrow\">GridSearchCV</label><div class=\"sk-toggleable__content\"><pre>GridSearchCV(cv=3,\n",
       "             estimator=Pipeline(steps=[(&#x27;scaling&#x27;, StandardScaler()),\n",
       "                                       (&#x27;model&#x27;,\n",
       "                                        XGBRegressor(base_score=None,\n",
       "                                                     booster=None,\n",
       "                                                     colsample_bylevel=None,\n",
       "                                                     colsample_bynode=None,\n",
       "                                                     colsample_bytree=None,\n",
       "                                                     gamma=None, gpu_id=None,\n",
       "                                                     importance_type=&#x27;gain&#x27;,\n",
       "                                                     interaction_constraints=None,\n",
       "                                                     learning_rate=None,\n",
       "                                                     max_delta_step=None,\n",
       "                                                     max_depth=None,\n",
       "                                                     min_child_weight=None,\n",
       "                                                     missing=...\n",
       "                                                 random_state=None, reg_alpha=1,\n",
       "                                                 reg_lambda=0.8,\n",
       "                                                 scale_pos_weight=None,\n",
       "                                                 subsample=None,\n",
       "                                                 tree_method=&#x27;hist&#x27;,\n",
       "                                                 validate_parameters=None,\n",
       "                                                 verbosity=None)],\n",
       "                          &#x27;model__learning_rate&#x27;: [0.2],\n",
       "                          &#x27;model__max_depth&#x27;: [5, 4, 6, 7, 8, 9, 10],\n",
       "                          &#x27;model__n_estimators&#x27;: [1000],\n",
       "                          &#x27;model__reg_alpha&#x27;: [0.01, 0.1, 1, 10],\n",
       "                          &#x27;model__reg_lambda&#x27;: [0.8, 1, 1.2],\n",
       "                          &#x27;scaling&#x27;: [MinMaxScaler()]}],\n",
       "             scoring=&#x27;neg_mean_squared_error&#x27;, verbose=1)</pre></div></div></div><div class=\"sk-parallel\"><div class=\"sk-parallel-item\"><div class=\"sk-item\"><div class=\"sk-label-container\"><div class=\"sk-label sk-toggleable\"><input class=\"sk-toggleable__control sk-hidden--visually\" id=\"sk-estimator-id-6\" type=\"checkbox\" ><label for=\"sk-estimator-id-6\" class=\"sk-toggleable__label sk-toggleable__label-arrow\">estimator: Pipeline</label><div class=\"sk-toggleable__content\"><pre>Pipeline(steps=[(&#x27;scaling&#x27;, StandardScaler()),\n",
       "                (&#x27;model&#x27;,\n",
       "                 XGBRegressor(base_score=None, booster=None,\n",
       "                              colsample_bylevel=None, colsample_bynode=None,\n",
       "                              colsample_bytree=None, gamma=None, gpu_id=None,\n",
       "                              importance_type=&#x27;gain&#x27;,\n",
       "                              interaction_constraints=None, learning_rate=None,\n",
       "                              max_delta_step=None, max_depth=None,\n",
       "                              min_child_weight=None, missing=nan,\n",
       "                              monotone_constraints=None, n_estimators=100,\n",
       "                              n_jobs=None, num_parallel_tree=None,\n",
       "                              random_state=None, reg_alpha=None,\n",
       "                              reg_lambda=None, scale_pos_weight=None,\n",
       "                              subsample=None, tree_method=None,\n",
       "                              validate_parameters=None, verbosity=None))])</pre></div></div></div><div class=\"sk-serial\"><div class=\"sk-item\"><div class=\"sk-serial\"><div class=\"sk-item\"><div class=\"sk-estimator sk-toggleable\"><input class=\"sk-toggleable__control sk-hidden--visually\" id=\"sk-estimator-id-7\" type=\"checkbox\" ><label for=\"sk-estimator-id-7\" class=\"sk-toggleable__label sk-toggleable__label-arrow\">StandardScaler</label><div class=\"sk-toggleable__content\"><pre>StandardScaler()</pre></div></div></div><div class=\"sk-item\"><div class=\"sk-estimator sk-toggleable\"><input class=\"sk-toggleable__control sk-hidden--visually\" id=\"sk-estimator-id-8\" type=\"checkbox\" ><label for=\"sk-estimator-id-8\" class=\"sk-toggleable__label sk-toggleable__label-arrow\">XGBRegressor</label><div class=\"sk-toggleable__content\"><pre>XGBRegressor(base_score=None, booster=None, colsample_bylevel=None,\n",
       "             colsample_bynode=None, colsample_bytree=None, gamma=None,\n",
       "             gpu_id=None, importance_type=&#x27;gain&#x27;, interaction_constraints=None,\n",
       "             learning_rate=None, max_delta_step=None, max_depth=None,\n",
       "             min_child_weight=None, missing=nan, monotone_constraints=None,\n",
       "             n_estimators=100, n_jobs=None, num_parallel_tree=None,\n",
       "             random_state=None, reg_alpha=None, reg_lambda=None,\n",
       "             scale_pos_weight=None, subsample=None, tree_method=None,\n",
       "             validate_parameters=None, verbosity=None)</pre></div></div></div></div></div></div></div></div></div></div></div></div>"
      ],
      "text/plain": [
       "GridSearchCV(cv=3,\n",
       "             estimator=Pipeline(steps=[('scaling', StandardScaler()),\n",
       "                                       ('model',\n",
       "                                        XGBRegressor(base_score=None,\n",
       "                                                     booster=None,\n",
       "                                                     colsample_bylevel=None,\n",
       "                                                     colsample_bynode=None,\n",
       "                                                     colsample_bytree=None,\n",
       "                                                     gamma=None, gpu_id=None,\n",
       "                                                     importance_type='gain',\n",
       "                                                     interaction_constraints=None,\n",
       "                                                     learning_rate=None,\n",
       "                                                     max_delta_step=None,\n",
       "                                                     max_depth=None,\n",
       "                                                     min_child_weight=None,\n",
       "                                                     missing=...\n",
       "                                                 random_state=None, reg_alpha=1,\n",
       "                                                 reg_lambda=0.8,\n",
       "                                                 scale_pos_weight=None,\n",
       "                                                 subsample=None,\n",
       "                                                 tree_method='hist',\n",
       "                                                 validate_parameters=None,\n",
       "                                                 verbosity=None)],\n",
       "                          'model__learning_rate': [0.2],\n",
       "                          'model__max_depth': [5, 4, 6, 7, 8, 9, 10],\n",
       "                          'model__n_estimators': [1000],\n",
       "                          'model__reg_alpha': [0.01, 0.1, 1, 10],\n",
       "                          'model__reg_lambda': [0.8, 1, 1.2],\n",
       "                          'scaling': [MinMaxScaler()]}],\n",
       "             scoring='neg_mean_squared_error', verbose=1)"
      ]
     },
     "execution_count": 13,
     "metadata": {},
     "output_type": "execute_result"
    }
   ],
   "source": [
    "# combine XGBoost and GridSearchCV\n",
    "# Step 2: Given the optimal scaler, learning_rate and n_estimators from the previous\n",
    "# GridSearch, find the optimal max_depth, reg_alpha and reg_lambda\n",
    "\n",
    "# create placeholders for all three steps\n",
    "estimators = [\n",
    "    ('scaling', StandardScaler()),\n",
    "    ('model', XGBRegressor())\n",
    "]\n",
    "\n",
    "# instantiate Pipeline with the estimators above\n",
    "pipe = Pipeline(estimators)\n",
    "\n",
    "# define parameters for GridSearchCV()\n",
    "params = [\n",
    "    {\n",
    "        'scaling': [MinMaxScaler()],\n",
    "        'model': [XGBRegressor(tree_method = 'hist')], \n",
    "        'model__learning_rate': [0.2], \n",
    "        'model__n_estimators': [1000],\n",
    "        'model__max_depth': [5, 4, 6, 7, 8, 9, 10],\n",
    "        'model__reg_alpha': [0.01, 0.1, 1, 10],\n",
    "        'model__reg_lambda': [0.8, 1, 1.2]\n",
    "    }\n",
    "]\n",
    "\n",
    "# instantiate GridSearchCV() using Pipeline as an estimator\n",
    "# and the parameters set above\n",
    "grid = GridSearchCV(estimator = pipe, \n",
    "                    param_grid = params, \n",
    "                    scoring = 'neg_mean_squared_error', \n",
    "                    verbose = 1, \n",
    "                    cv = 3)\n",
    "\n",
    "# fit the GridSearchCV()\n",
    "grid.fit(X_train, y_train)\n"
   ]
  },
  {
   "cell_type": "code",
   "execution_count": 14,
   "id": "bf9bcbb2",
   "metadata": {},
   "outputs": [
    {
     "name": "stdout",
     "output_type": "stream",
     "text": [
      "Best parameters: {'model': XGBRegressor(base_score=None, booster=None, colsample_bylevel=None,\n",
      "             colsample_bynode=None, colsample_bytree=None, gamma=None,\n",
      "             gpu_id=None, importance_type='gain', interaction_constraints=None,\n",
      "             learning_rate=0.2, max_delta_step=None, max_depth=6,\n",
      "             min_child_weight=None, missing=nan, monotone_constraints=None,\n",
      "             n_estimators=1000, n_jobs=None, num_parallel_tree=None,\n",
      "             random_state=None, reg_alpha=1, reg_lambda=0.8,\n",
      "             scale_pos_weight=None, subsample=None, tree_method='hist',\n",
      "             validate_parameters=None, verbosity=None), 'model__learning_rate': 0.2, 'model__max_depth': 6, 'model__n_estimators': 1000, 'model__reg_alpha': 1, 'model__reg_lambda': 0.8, 'scaling': MinMaxScaler()}.\n"
     ]
    }
   ],
   "source": [
    "# check best parameters for the first step\n",
    "print(f\"Best parameters: {grid.best_params_}.\")"
   ]
  },
  {
   "cell_type": "markdown",
   "id": "f01f1586",
   "metadata": {},
   "source": [
    "As a result of the second GridSearchCV, given the results of the first GridSearchCV, using 3 folds, the best parameter are:\n",
    "\n",
    "   - Scaler: MinMaxScaler( )\n",
    "   - Model: learning_rate --> 0.2\n",
    "   - Model: n_estimators --> 1000\n",
    "   - Model: max_depth --> 6\n",
    "   - Model: reg_alpha --> 1\n",
    "   \n",
    "Those parameters will be hard-coded in the next GridSearchCV step."
   ]
  },
  {
   "cell_type": "markdown",
   "id": "66da3c59",
   "metadata": {},
   "source": [
    " "
   ]
  },
  {
   "cell_type": "markdown",
   "id": "9423a79a",
   "metadata": {},
   "source": [
    "#### Step 3: Optimal 'subsample' and 'colsample_bytree'\n",
    "<a id = 'step_3'></a>"
   ]
  },
  {
   "cell_type": "markdown",
   "id": "492d1bce",
   "metadata": {},
   "source": [
    "In this third step, given the tuned hyperparameters above, I will tune: \n",
    "   - subsample\n",
    "   - colsample_bytree"
   ]
  },
  {
   "cell_type": "code",
   "execution_count": 16,
   "id": "ce52b295",
   "metadata": {},
   "outputs": [
    {
     "name": "stdout",
     "output_type": "stream",
     "text": [
      "Fitting 3 folds for each of 25 candidates, totalling 75 fits\n"
     ]
    },
    {
     "data": {
      "text/html": [
       "<style>#sk-container-id-3 {color: black;background-color: white;}#sk-container-id-3 pre{padding: 0;}#sk-container-id-3 div.sk-toggleable {background-color: white;}#sk-container-id-3 label.sk-toggleable__label {cursor: pointer;display: block;width: 100%;margin-bottom: 0;padding: 0.3em;box-sizing: border-box;text-align: center;}#sk-container-id-3 label.sk-toggleable__label-arrow:before {content: \"▸\";float: left;margin-right: 0.25em;color: #696969;}#sk-container-id-3 label.sk-toggleable__label-arrow:hover:before {color: black;}#sk-container-id-3 div.sk-estimator:hover label.sk-toggleable__label-arrow:before {color: black;}#sk-container-id-3 div.sk-toggleable__content {max-height: 0;max-width: 0;overflow: hidden;text-align: left;background-color: #f0f8ff;}#sk-container-id-3 div.sk-toggleable__content pre {margin: 0.2em;color: black;border-radius: 0.25em;background-color: #f0f8ff;}#sk-container-id-3 input.sk-toggleable__control:checked~div.sk-toggleable__content {max-height: 200px;max-width: 100%;overflow: auto;}#sk-container-id-3 input.sk-toggleable__control:checked~label.sk-toggleable__label-arrow:before {content: \"▾\";}#sk-container-id-3 div.sk-estimator input.sk-toggleable__control:checked~label.sk-toggleable__label {background-color: #d4ebff;}#sk-container-id-3 div.sk-label input.sk-toggleable__control:checked~label.sk-toggleable__label {background-color: #d4ebff;}#sk-container-id-3 input.sk-hidden--visually {border: 0;clip: rect(1px 1px 1px 1px);clip: rect(1px, 1px, 1px, 1px);height: 1px;margin: -1px;overflow: hidden;padding: 0;position: absolute;width: 1px;}#sk-container-id-3 div.sk-estimator {font-family: monospace;background-color: #f0f8ff;border: 1px dotted black;border-radius: 0.25em;box-sizing: border-box;margin-bottom: 0.5em;}#sk-container-id-3 div.sk-estimator:hover {background-color: #d4ebff;}#sk-container-id-3 div.sk-parallel-item::after {content: \"\";width: 100%;border-bottom: 1px solid gray;flex-grow: 1;}#sk-container-id-3 div.sk-label:hover label.sk-toggleable__label {background-color: #d4ebff;}#sk-container-id-3 div.sk-serial::before {content: \"\";position: absolute;border-left: 1px solid gray;box-sizing: border-box;top: 0;bottom: 0;left: 50%;z-index: 0;}#sk-container-id-3 div.sk-serial {display: flex;flex-direction: column;align-items: center;background-color: white;padding-right: 0.2em;padding-left: 0.2em;position: relative;}#sk-container-id-3 div.sk-item {position: relative;z-index: 1;}#sk-container-id-3 div.sk-parallel {display: flex;align-items: stretch;justify-content: center;background-color: white;position: relative;}#sk-container-id-3 div.sk-item::before, #sk-container-id-3 div.sk-parallel-item::before {content: \"\";position: absolute;border-left: 1px solid gray;box-sizing: border-box;top: 0;bottom: 0;left: 50%;z-index: -1;}#sk-container-id-3 div.sk-parallel-item {display: flex;flex-direction: column;z-index: 1;position: relative;background-color: white;}#sk-container-id-3 div.sk-parallel-item:first-child::after {align-self: flex-end;width: 50%;}#sk-container-id-3 div.sk-parallel-item:last-child::after {align-self: flex-start;width: 50%;}#sk-container-id-3 div.sk-parallel-item:only-child::after {width: 0;}#sk-container-id-3 div.sk-dashed-wrapped {border: 1px dashed gray;margin: 0 0.4em 0.5em 0.4em;box-sizing: border-box;padding-bottom: 0.4em;background-color: white;}#sk-container-id-3 div.sk-label label {font-family: monospace;font-weight: bold;display: inline-block;line-height: 1.2em;}#sk-container-id-3 div.sk-label-container {text-align: center;}#sk-container-id-3 div.sk-container {/* jupyter's `normalize.less` sets `[hidden] { display: none; }` but bootstrap.min.css set `[hidden] { display: none !important; }` so we also need the `!important` here to be able to override the default hidden behavior on the sphinx rendered scikit-learn.org. See: https://github.com/scikit-learn/scikit-learn/issues/21755 */display: inline-block !important;position: relative;}#sk-container-id-3 div.sk-text-repr-fallback {display: none;}</style><div id=\"sk-container-id-3\" class=\"sk-top-container\"><div class=\"sk-text-repr-fallback\"><pre>GridSearchCV(cv=3,\n",
       "             estimator=Pipeline(steps=[(&#x27;scaling&#x27;, StandardScaler()),\n",
       "                                       (&#x27;model&#x27;,\n",
       "                                        XGBRegressor(base_score=None,\n",
       "                                                     booster=None,\n",
       "                                                     colsample_bylevel=None,\n",
       "                                                     colsample_bynode=None,\n",
       "                                                     colsample_bytree=None,\n",
       "                                                     gamma=None, gpu_id=None,\n",
       "                                                     importance_type=&#x27;gain&#x27;,\n",
       "                                                     interaction_constraints=None,\n",
       "                                                     learning_rate=None,\n",
       "                                                     max_delta_step=None,\n",
       "                                                     max_depth=None,\n",
       "                                                     min_child_weight=None,\n",
       "                                                     missing=...\n",
       "                                                 scale_pos_weight=None,\n",
       "                                                 subsample=1.0,\n",
       "                                                 tree_method=&#x27;hist&#x27;,\n",
       "                                                 validate_parameters=None,\n",
       "                                                 verbosity=None)],\n",
       "                          &#x27;model__colsample_bytree&#x27;: [0.6, 0.7, 0.8, 0.9, 1.0],\n",
       "                          &#x27;model__learning_rate&#x27;: [0.2],\n",
       "                          &#x27;model__max_depth&#x27;: [6],\n",
       "                          &#x27;model__n_estimators&#x27;: [1000],\n",
       "                          &#x27;model__reg_alpha&#x27;: [1.0],\n",
       "                          &#x27;model__subsample&#x27;: [0.6, 0.7, 0.8, 0.9, 1.0],\n",
       "                          &#x27;scaling&#x27;: [MinMaxScaler()]}],\n",
       "             scoring=&#x27;neg_mean_squared_error&#x27;, verbose=1)</pre><b>In a Jupyter environment, please rerun this cell to show the HTML representation or trust the notebook. <br />On GitHub, the HTML representation is unable to render, please try loading this page with nbviewer.org.</b></div><div class=\"sk-container\" hidden><div class=\"sk-item sk-dashed-wrapped\"><div class=\"sk-label-container\"><div class=\"sk-label sk-toggleable\"><input class=\"sk-toggleable__control sk-hidden--visually\" id=\"sk-estimator-id-9\" type=\"checkbox\" ><label for=\"sk-estimator-id-9\" class=\"sk-toggleable__label sk-toggleable__label-arrow\">GridSearchCV</label><div class=\"sk-toggleable__content\"><pre>GridSearchCV(cv=3,\n",
       "             estimator=Pipeline(steps=[(&#x27;scaling&#x27;, StandardScaler()),\n",
       "                                       (&#x27;model&#x27;,\n",
       "                                        XGBRegressor(base_score=None,\n",
       "                                                     booster=None,\n",
       "                                                     colsample_bylevel=None,\n",
       "                                                     colsample_bynode=None,\n",
       "                                                     colsample_bytree=None,\n",
       "                                                     gamma=None, gpu_id=None,\n",
       "                                                     importance_type=&#x27;gain&#x27;,\n",
       "                                                     interaction_constraints=None,\n",
       "                                                     learning_rate=None,\n",
       "                                                     max_delta_step=None,\n",
       "                                                     max_depth=None,\n",
       "                                                     min_child_weight=None,\n",
       "                                                     missing=...\n",
       "                                                 scale_pos_weight=None,\n",
       "                                                 subsample=1.0,\n",
       "                                                 tree_method=&#x27;hist&#x27;,\n",
       "                                                 validate_parameters=None,\n",
       "                                                 verbosity=None)],\n",
       "                          &#x27;model__colsample_bytree&#x27;: [0.6, 0.7, 0.8, 0.9, 1.0],\n",
       "                          &#x27;model__learning_rate&#x27;: [0.2],\n",
       "                          &#x27;model__max_depth&#x27;: [6],\n",
       "                          &#x27;model__n_estimators&#x27;: [1000],\n",
       "                          &#x27;model__reg_alpha&#x27;: [1.0],\n",
       "                          &#x27;model__subsample&#x27;: [0.6, 0.7, 0.8, 0.9, 1.0],\n",
       "                          &#x27;scaling&#x27;: [MinMaxScaler()]}],\n",
       "             scoring=&#x27;neg_mean_squared_error&#x27;, verbose=1)</pre></div></div></div><div class=\"sk-parallel\"><div class=\"sk-parallel-item\"><div class=\"sk-item\"><div class=\"sk-label-container\"><div class=\"sk-label sk-toggleable\"><input class=\"sk-toggleable__control sk-hidden--visually\" id=\"sk-estimator-id-10\" type=\"checkbox\" ><label for=\"sk-estimator-id-10\" class=\"sk-toggleable__label sk-toggleable__label-arrow\">estimator: Pipeline</label><div class=\"sk-toggleable__content\"><pre>Pipeline(steps=[(&#x27;scaling&#x27;, StandardScaler()),\n",
       "                (&#x27;model&#x27;,\n",
       "                 XGBRegressor(base_score=None, booster=None,\n",
       "                              colsample_bylevel=None, colsample_bynode=None,\n",
       "                              colsample_bytree=None, gamma=None, gpu_id=None,\n",
       "                              importance_type=&#x27;gain&#x27;,\n",
       "                              interaction_constraints=None, learning_rate=None,\n",
       "                              max_delta_step=None, max_depth=None,\n",
       "                              min_child_weight=None, missing=nan,\n",
       "                              monotone_constraints=None, n_estimators=100,\n",
       "                              n_jobs=None, num_parallel_tree=None,\n",
       "                              random_state=None, reg_alpha=None,\n",
       "                              reg_lambda=None, scale_pos_weight=None,\n",
       "                              subsample=None, tree_method=None,\n",
       "                              validate_parameters=None, verbosity=None))])</pre></div></div></div><div class=\"sk-serial\"><div class=\"sk-item\"><div class=\"sk-serial\"><div class=\"sk-item\"><div class=\"sk-estimator sk-toggleable\"><input class=\"sk-toggleable__control sk-hidden--visually\" id=\"sk-estimator-id-11\" type=\"checkbox\" ><label for=\"sk-estimator-id-11\" class=\"sk-toggleable__label sk-toggleable__label-arrow\">StandardScaler</label><div class=\"sk-toggleable__content\"><pre>StandardScaler()</pre></div></div></div><div class=\"sk-item\"><div class=\"sk-estimator sk-toggleable\"><input class=\"sk-toggleable__control sk-hidden--visually\" id=\"sk-estimator-id-12\" type=\"checkbox\" ><label for=\"sk-estimator-id-12\" class=\"sk-toggleable__label sk-toggleable__label-arrow\">XGBRegressor</label><div class=\"sk-toggleable__content\"><pre>XGBRegressor(base_score=None, booster=None, colsample_bylevel=None,\n",
       "             colsample_bynode=None, colsample_bytree=None, gamma=None,\n",
       "             gpu_id=None, importance_type=&#x27;gain&#x27;, interaction_constraints=None,\n",
       "             learning_rate=None, max_delta_step=None, max_depth=None,\n",
       "             min_child_weight=None, missing=nan, monotone_constraints=None,\n",
       "             n_estimators=100, n_jobs=None, num_parallel_tree=None,\n",
       "             random_state=None, reg_alpha=None, reg_lambda=None,\n",
       "             scale_pos_weight=None, subsample=None, tree_method=None,\n",
       "             validate_parameters=None, verbosity=None)</pre></div></div></div></div></div></div></div></div></div></div></div></div>"
      ],
      "text/plain": [
       "GridSearchCV(cv=3,\n",
       "             estimator=Pipeline(steps=[('scaling', StandardScaler()),\n",
       "                                       ('model',\n",
       "                                        XGBRegressor(base_score=None,\n",
       "                                                     booster=None,\n",
       "                                                     colsample_bylevel=None,\n",
       "                                                     colsample_bynode=None,\n",
       "                                                     colsample_bytree=None,\n",
       "                                                     gamma=None, gpu_id=None,\n",
       "                                                     importance_type='gain',\n",
       "                                                     interaction_constraints=None,\n",
       "                                                     learning_rate=None,\n",
       "                                                     max_delta_step=None,\n",
       "                                                     max_depth=None,\n",
       "                                                     min_child_weight=None,\n",
       "                                                     missing=...\n",
       "                                                 scale_pos_weight=None,\n",
       "                                                 subsample=1.0,\n",
       "                                                 tree_method='hist',\n",
       "                                                 validate_parameters=None,\n",
       "                                                 verbosity=None)],\n",
       "                          'model__colsample_bytree': [0.6, 0.7, 0.8, 0.9, 1.0],\n",
       "                          'model__learning_rate': [0.2],\n",
       "                          'model__max_depth': [6],\n",
       "                          'model__n_estimators': [1000],\n",
       "                          'model__reg_alpha': [1.0],\n",
       "                          'model__subsample': [0.6, 0.7, 0.8, 0.9, 1.0],\n",
       "                          'scaling': [MinMaxScaler()]}],\n",
       "             scoring='neg_mean_squared_error', verbose=1)"
      ]
     },
     "execution_count": 16,
     "metadata": {},
     "output_type": "execute_result"
    }
   ],
   "source": [
    "# combine XGBoost and GridSearchCV\n",
    "# Step 3: Given the optimal scaler, learning_rate, n_estimators, max_depth and reg_alpha from the previous\n",
    "# GridSearch, find the optimal subsample, colsample_bytree \n",
    "\n",
    "# create placeholders for all three steps\n",
    "estimators = [\n",
    "    ('scaling', StandardScaler()),\n",
    "    ('model', XGBRegressor())\n",
    "]\n",
    "\n",
    "# instantiate Pipeline with the estimators above\n",
    "pipe = Pipeline(estimators)\n",
    "\n",
    "# define parameters for GridSearchCV()\n",
    "params = [\n",
    "    {\n",
    "        'scaling': [MinMaxScaler()],\n",
    "        'model': [XGBRegressor(tree_method = 'hist')], \n",
    "        'model__learning_rate': [0.2], \n",
    "        'model__n_estimators': [1000],\n",
    "        'model__reg_alpha': [1.0],\n",
    "        'model__max_depth': [6], \n",
    "        'model__subsample': [0.6, 0.7, 0.8, 0.9, 1.0],\n",
    "        'model__colsample_bytree': [0.6, 0.7, 0.8, 0.9, 1.0]\n",
    "    }\n",
    "]\n",
    "\n",
    "# instantiate GridSearchCV() using Pipeline as an estimator\n",
    "# and the parameters set above\n",
    "grid = GridSearchCV(estimator = pipe, \n",
    "                    param_grid = params, \n",
    "                    scoring = 'neg_mean_squared_error', \n",
    "                    verbose = 1, \n",
    "                    cv = 3)\n",
    "\n",
    "# fit the GridSearchCV()\n",
    "grid.fit(X_train, y_train)\n"
   ]
  },
  {
   "cell_type": "code",
   "execution_count": 17,
   "id": "691de371",
   "metadata": {},
   "outputs": [
    {
     "name": "stdout",
     "output_type": "stream",
     "text": [
      "Best parameters: {'model': XGBRegressor(base_score=None, booster=None, colsample_bylevel=None,\n",
      "             colsample_bynode=None, colsample_bytree=0.7, gamma=None,\n",
      "             gpu_id=None, importance_type='gain', interaction_constraints=None,\n",
      "             learning_rate=0.2, max_delta_step=None, max_depth=6,\n",
      "             min_child_weight=None, missing=nan, monotone_constraints=None,\n",
      "             n_estimators=1000, n_jobs=None, num_parallel_tree=None,\n",
      "             random_state=None, reg_alpha=1.0, reg_lambda=None,\n",
      "             scale_pos_weight=None, subsample=1.0, tree_method='hist',\n",
      "             validate_parameters=None, verbosity=None), 'model__colsample_bytree': 0.7, 'model__learning_rate': 0.2, 'model__max_depth': 6, 'model__n_estimators': 1000, 'model__reg_alpha': 1.0, 'model__subsample': 1.0, 'scaling': MinMaxScaler()}.\n"
     ]
    }
   ],
   "source": [
    "# check best parameters for the first step\n",
    "print(f\"Best parameters: {grid.best_params_}.\")"
   ]
  },
  {
   "cell_type": "markdown",
   "id": "6b43b89f",
   "metadata": {},
   "source": [
    "As a result of the third GridSearchCV, given the results of the first and second GridSearchCV, using 3 folds, the best parameter are:\n",
    "\n",
    "   - Scaler: MinMaxScaler( )\n",
    "   - Model: learning_rate -> 0.2\n",
    "   - Model: n_estimators -> 1000\n",
    "   - Model: max_depth -> 6\n",
    "   - Model: reg_alpha -> 1.0\n",
    "   - Model: subsample -> 1.0\n",
    "   - Model: colsample_bytree -> 0.7\n",
    "   \n",
    "Those hyperparameters are the ones I will use in my final model."
   ]
  },
  {
   "cell_type": "markdown",
   "id": "b3ae9a6c",
   "metadata": {},
   "source": [
    "---"
   ]
  },
  {
   "cell_type": "markdown",
   "id": "af9282d6",
   "metadata": {},
   "source": [
    "### Next Steps\n",
    "<a id = 'next'></a>"
   ]
  },
  {
   "cell_type": "markdown",
   "id": "dfb89de6",
   "metadata": {},
   "source": [
    "On the next Jupyter Notebook, I will test the accuracy of this model against real world data and create some visuals to help me explain the findings of this model. "
   ]
  },
  {
   "cell_type": "markdown",
   "id": "f74bbfa7",
   "metadata": {},
   "source": [
    "---"
   ]
  }
 ],
 "metadata": {
  "kernelspec": {
   "display_name": "capstone_ml",
   "language": "python",
   "name": "capstone_ml"
  },
  "language_info": {
   "codemirror_mode": {
    "name": "ipython",
    "version": 3
   },
   "file_extension": ".py",
   "mimetype": "text/x-python",
   "name": "python",
   "nbconvert_exporter": "python",
   "pygments_lexer": "ipython3",
   "version": "3.8.13"
  }
 },
 "nbformat": 4,
 "nbformat_minor": 5
}
